{
 "cells": [
  {
   "cell_type": "markdown",
   "id": "d422c0b1",
   "metadata": {},
   "source": [
    "## Chromosome ploidy code"
   ]
  },
  {
   "cell_type": "code",
   "execution_count": 1,
   "id": "11a8f045",
   "metadata": {},
   "outputs": [],
   "source": [
    "#Useful notebooks\n",
    "import numpy as np\n",
    "import pandas as pd\n",
    "\n",
    "import matplotlib.pyplot as plt\n",
    "%matplotlib inline\n",
    "import seaborn as sns\n",
    "import plotly.graph_objs as go\n",
    "\n",
    "from sklearn.preprocessing import StandardScaler, LabelEncoder\n",
    "from sklearn import decomposition\n",
    "from sklearn.model_selection import train_test_split\n",
    "\n",
    "from sklearn.linear_model import LogisticRegression\n",
    "from sklearn.discriminant_analysis import LinearDiscriminantAnalysis\n",
    "\n",
    "from sklearn.metrics import accuracy_score,confusion_matrix"
   ]
  },
  {
   "cell_type": "code",
   "execution_count": 2,
   "id": "cc2283b6",
   "metadata": {},
   "outputs": [
    {
     "name": "stderr",
     "output_type": "stream",
     "text": [
      "/tmp/ipykernel_133/2177009367.py:2: DtypeWarning: Columns (1,7,17,19,20,22,24,26,27,30,31,32,33,34,47,49,61,66,72,86,89,92,93,97,98,99,102,105,106,117,143,146,152,156,157,168,169,174,175,176,181,182,183,186,187,208,211,213,229,230,249,250,311) have mixed types. Specify dtype option on import or set low_memory=False.\n",
      "  three_df = pd.read_csv('three_df.csv')\n"
     ]
    }
   ],
   "source": [
    "#load in dataset\n",
    "three_df = pd.read_csv('three_df.csv')\n",
    "#load this in just in case but I'm going to try another method after as this one doesn't keep the datatypes, hence the warning"
   ]
  },
  {
   "cell_type": "code",
   "execution_count": 3,
   "id": "3b9e786e",
   "metadata": {},
   "outputs": [],
   "source": [
    "#load in dataset with pickle instead\n",
    "import pickle\n",
    "\n",
    "# Load the DataFrame from the Pickle file\n",
    "with open('three_df.pkl', 'rb') as file:\n",
    "    three_df = pickle.load(file)"
   ]
  },
  {
   "cell_type": "code",
   "execution_count": 4,
   "id": "4f2e2bd1",
   "metadata": {},
   "outputs": [
    {
     "data": {
      "text/plain": [
       "Unnamed: 0_x                                                                 float64\n",
       "Binomial                                                                      object\n",
       "Leaf Relative water content (water content / water content at saturation)    float64\n",
       "Leaf Water content (molar) per leaf dry mass (WCd)                           float64\n",
       "Leaf Water content saturating (molar) (WCs)                                  float64\n",
       "                                                                              ...   \n",
       "data_source                                                                   object\n",
       "sporophytic_chromosome_number                                                 object\n",
       "infraspecific_variation_chrom_number                                          object\n",
       "other_reported_sporophytic_chromosome_number                                  object\n",
       "source_of_other_chrom_num                                                     object\n",
       "Length: 343, dtype: object"
      ]
     },
     "execution_count": 4,
     "metadata": {},
     "output_type": "execute_result"
    }
   ],
   "source": [
    "three_df.dtypes\n",
    "#dw about this bit - i was just checking that the data types are the same as in the notebook \n",
    "#(apparently when saving dataframes as csv files they're bad at perserving the data types e.g., object, float64, whatever)"
   ]
  },
  {
   "cell_type": "markdown",
   "id": "7e3694ae",
   "metadata": {},
   "source": [
    "Now this bit just removes NaNs from the ploidy column"
   ]
  },
  {
   "cell_type": "code",
   "execution_count": 5,
   "id": "251ff3f2",
   "metadata": {},
   "outputs": [
    {
     "name": "stdout",
     "output_type": "stream",
     "text": [
      "2336\n"
     ]
    }
   ],
   "source": [
    "#check for nans in ploidy column\n",
    "print(three_df['Chromosome ploidy'].isna().sum())"
   ]
  },
  {
   "cell_type": "code",
   "execution_count": 6,
   "id": "6c1b8054",
   "metadata": {},
   "outputs": [],
   "source": [
    "#remove those pesky nans\n",
    "three_df = three_df.dropna(subset=['Chromosome ploidy'])"
   ]
  },
  {
   "cell_type": "code",
   "execution_count": 7,
   "id": "cb58fa86",
   "metadata": {},
   "outputs": [
    {
     "name": "stdout",
     "output_type": "stream",
     "text": [
      "0\n"
     ]
    }
   ],
   "source": [
    "#check that has removed all nans - should output a 0\n",
    "print(three_df['Chromosome ploidy'].isna().sum())"
   ]
  },
  {
   "cell_type": "markdown",
   "id": "6a5c9f5b",
   "metadata": {},
   "source": [
    "Okay so now if there's any analysis you want to do with ALL the chromosome ploidy values, insert lines before the next bit of code"
   ]
  },
  {
   "cell_type": "code",
   "execution_count": null,
   "id": "6e832c05",
   "metadata": {},
   "outputs": [],
   "source": []
  },
  {
   "cell_type": "code",
   "execution_count": null,
   "id": "3610ebf5",
   "metadata": {},
   "outputs": [],
   "source": []
  },
  {
   "cell_type": "code",
   "execution_count": null,
   "id": "3153a47e",
   "metadata": {},
   "outputs": [],
   "source": []
  },
  {
   "cell_type": "markdown",
   "id": "a15c326a",
   "metadata": {},
   "source": [
    "Now this bit narrows the data down to just diploids and tetraploids"
   ]
  },
  {
   "cell_type": "code",
   "execution_count": 8,
   "id": "79c67c26",
   "metadata": {},
   "outputs": [],
   "source": [
    "#grouping data into diploid and tetraploids\n",
    "filtered_df = three_df[(three_df['Chromosome ploidy'] == 2.0) | (three_df['Chromosome ploidy'] == 4.0)]"
   ]
  },
  {
   "cell_type": "code",
   "execution_count": 9,
   "id": "d26c8716",
   "metadata": {},
   "outputs": [
    {
     "data": {
      "text/plain": [
       "2.0    287\n",
       "4.0     52\n",
       "Name: Chromosome ploidy, dtype: int64"
      ]
     },
     "execution_count": 9,
     "metadata": {},
     "output_type": "execute_result"
    }
   ],
   "source": [
    "#check that it is only 2 and 4 ploidy values now\n",
    "filtered_df['Chromosome ploidy'].value_counts()"
   ]
  },
  {
   "cell_type": "code",
   "execution_count": 10,
   "id": "93dbad0c",
   "metadata": {},
   "outputs": [],
   "source": [
    "#now we can do whatever analysis we want comparing variables directly to diploids and tetraploids\n",
    "#just remember to now use filtered_df rather than three_df"
   ]
  },
  {
   "cell_type": "code",
   "execution_count": null,
   "id": "9877ac48",
   "metadata": {},
   "outputs": [],
   "source": []
  },
  {
   "cell_type": "code",
   "execution_count": null,
   "id": "cf04ef6e",
   "metadata": {},
   "outputs": [],
   "source": []
  },
  {
   "cell_type": "code",
   "execution_count": null,
   "id": "9843b432",
   "metadata": {},
   "outputs": [],
   "source": []
  },
  {
   "cell_type": "markdown",
   "id": "adcc1f42",
   "metadata": {},
   "source": [
    "Another option: If you guys want to compare diploids to plants with strictly more than 2 sets of chromosomes, we can also group the data like this:"
   ]
  },
  {
   "cell_type": "code",
   "execution_count": 11,
   "id": "718b4922",
   "metadata": {},
   "outputs": [],
   "source": [
    "polyploidy_df = three_df[(three_df['Chromosome ploidy'] == 2.0) | (three_df['Chromosome ploidy'] >= 3.0)]"
   ]
  },
  {
   "cell_type": "code",
   "execution_count": 12,
   "id": "3f7bad46",
   "metadata": {},
   "outputs": [
    {
     "data": {
      "text/plain": [
       "2.000000     287\n",
       "4.000000      52\n",
       "3.000000      38\n",
       "5.000000      22\n",
       "3.500000      17\n",
       "3.200000      16\n",
       "3.333333      14\n",
       "3.710145      14\n",
       "3.219512      14\n",
       "3.170732      12\n",
       "6.500000      11\n",
       "5.348837      10\n",
       "6.000000       9\n",
       "6.181818       9\n",
       "4.500000       8\n",
       "3.065217       7\n",
       "4.530303       7\n",
       "4.444444       7\n",
       "4.421053       7\n",
       "3.166667       6\n",
       "3.600000       6\n",
       "6.464286       5\n",
       "4.666667       5\n",
       "3.052632       5\n",
       "3.750000       5\n",
       "3.250000       5\n",
       "3.578947       4\n",
       "3.911111       4\n",
       "3.142857       3\n",
       "8.000000       3\n",
       "3.675676       3\n",
       "5.135135       3\n",
       "4.727273       3\n",
       "4.900000       2\n",
       "5.625000       2\n",
       "3.666667       2\n",
       "3.125000       2\n",
       "3.080000       2\n",
       "30.000000      1\n",
       "3.111111       1\n",
       "5.333333       1\n",
       "4.372881       1\n",
       "8.666667       1\n",
       "3.276923       1\n",
       "4.014925       1\n",
       "9.666667       1\n",
       "3.375000       1\n",
       "5.200000       1\n",
       "7.000000       1\n",
       "5.500000       1\n",
       "4.631579       1\n",
       "4.333333       1\n",
       "3.545455       1\n",
       "4.117647       1\n",
       "5.166667       1\n",
       "3.012500       1\n",
       "Name: Chromosome ploidy, dtype: int64"
      ]
     },
     "execution_count": 12,
     "metadata": {},
     "output_type": "execute_result"
    }
   ],
   "source": [
    "#check that there are no values between 2.0 and 3.0\n",
    "polyploidy_df['Chromosome ploidy'].value_counts()"
   ]
  }
 ],
 "metadata": {
  "kernelspec": {
   "display_name": "Python 3 (ipykernel)",
   "language": "python",
   "name": "python3"
  },
  "language_info": {
   "codemirror_mode": {
    "name": "ipython",
    "version": 3
   },
   "file_extension": ".py",
   "mimetype": "text/x-python",
   "name": "python",
   "nbconvert_exporter": "python",
   "pygments_lexer": "ipython3",
   "version": "3.9.13"
  }
 },
 "nbformat": 4,
 "nbformat_minor": 5
}
